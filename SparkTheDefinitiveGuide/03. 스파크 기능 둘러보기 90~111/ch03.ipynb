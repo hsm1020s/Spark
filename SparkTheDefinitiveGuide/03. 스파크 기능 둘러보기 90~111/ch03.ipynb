{
 "cells": [
  {
   "cell_type": "code",
   "execution_count": 1,
   "id": "51984152",
   "metadata": {
    "ExecuteTime": {
     "end_time": "2024-01-30T06:07:37.229496Z",
     "start_time": "2024-01-30T06:07:37.105733Z"
    }
   },
   "outputs": [],
   "source": [
    "import pyspark # 파이스파크 임포트 "
   ]
  },
  {
   "cell_type": "code",
   "execution_count": 2,
   "id": "2d628c71",
   "metadata": {
    "ExecuteTime": {
     "end_time": "2024-01-30T06:07:51.223439Z",
     "start_time": "2024-01-30T06:07:46.760870Z"
    }
   },
   "outputs": [],
   "source": [
    "from pyspark.sql import SparkSession\n",
    "\n",
    "# Spark 세션 생성\n",
    "spark = SparkSession.builder \\\n",
    "    .appName(\"YourAppName\") \\\n",
    "    .getOrCreate()"
   ]
  },
  {
   "cell_type": "code",
   "execution_count": null,
   "id": "8662afa8",
   "metadata": {},
   "outputs": [],
   "source": []
  }
 ],
 "metadata": {
  "kernelspec": {
   "display_name": "Python 3 (ipykernel)",
   "language": "python",
   "name": "python3"
  },
  "language_info": {
   "codemirror_mode": {
    "name": "ipython",
    "version": 3
   },
   "file_extension": ".py",
   "mimetype": "text/x-python",
   "name": "python",
   "nbconvert_exporter": "python",
   "pygments_lexer": "ipython3",
   "version": "3.11.5"
  },
  "toc": {
   "base_numbering": 1,
   "nav_menu": {},
   "number_sections": true,
   "sideBar": true,
   "skip_h1_title": false,
   "title_cell": "Table of Contents",
   "title_sidebar": "Contents",
   "toc_cell": false,
   "toc_position": {},
   "toc_section_display": true,
   "toc_window_display": false
  }
 },
 "nbformat": 4,
 "nbformat_minor": 5
}
